{
  "metadata": {
    "kernelspec": {
      "language": "python",
      "display_name": "Python 3",
      "name": "python3"
    },
    "language_info": {
      "pygments_lexer": "ipython3",
      "nbconvert_exporter": "python",
      "version": "3.6.4",
      "file_extension": ".py",
      "codemirror_mode": {
        "name": "ipython",
        "version": 3
      },
      "name": "python",
      "mimetype": "text/x-python"
    },
    "colab": {
      "provenance": []
    }
  },
  "nbformat_minor": 0,
  "nbformat": 4,
  "cells": [
    {
      "cell_type": "markdown",
      "source": [
        "![](https://perfectial.com/wp-content/uploads/2020/04/fraud-03-1024x421.jpg)"
      ],
      "metadata": {
        "id": "zWiK4xv0v3Lq"
      }
    },
    {
      "cell_type": "code",
      "source": [
        "#importing library\n",
        "import numpy as np\n",
        "import pandas as pd\n",
        "%matplotlib inline\n",
        "import matplotlib.pyplot as plt\n",
        "import matplotlib.lines as mlines\n",
        "import seaborn as sns\n",
        "from mpl_toolkits.mplot3d import Axes3D"
      ],
      "metadata": {
        "_uuid": "8f2839f25d086af736a60e9eeb907d3b93b6e0e5",
        "_cell_guid": "b1076dfc-b9ad-4769-8c92-a6c4dae69d19",
        "execution": {
          "iopub.status.busy": "2022-11-25T15:40:30.025053Z",
          "iopub.execute_input": "2022-11-25T15:40:30.025436Z",
          "iopub.status.idle": "2022-11-25T15:40:30.675695Z",
          "shell.execute_reply.started": "2022-11-25T15:40:30.025404Z",
          "shell.execute_reply": "2022-11-25T15:40:30.674393Z"
        },
        "trusted": true,
        "id": "kwfZgnvPv3Ls"
      },
      "execution_count": 36,
      "outputs": []
    },
    {
      "cell_type": "code",
      "source": [
        "df = pd.read_csv('../input/PS_20174392719_1491204439457_log.csv')"
      ],
      "metadata": {
        "execution": {
          "iopub.status.busy": "2022-11-25T15:40:30.677391Z",
          "iopub.execute_input": "2022-11-25T15:40:30.677735Z",
          "iopub.status.idle": "2022-11-25T15:40:52.530011Z",
          "shell.execute_reply.started": "2022-11-25T15:40:30.677704Z",
          "shell.execute_reply": "2022-11-25T15:40:52.528841Z"
        },
        "trusted": true,
        "id": "lHY_0a7yv3Lt"
      },
      "execution_count": 3,
      "outputs": []
    },
    {
      "cell_type": "code",
      "source": [
        "#lets look into the data\n",
        "df.head(5)"
      ],
      "metadata": {
        "execution": {
          "iopub.status.busy": "2022-11-25T15:40:52.531458Z",
          "iopub.execute_input": "2022-11-25T15:40:52.531918Z",
          "iopub.status.idle": "2022-11-25T15:40:52.557954Z",
          "shell.execute_reply.started": "2022-11-25T15:40:52.53187Z",
          "shell.execute_reply": "2022-11-25T15:40:52.556907Z"
        },
        "trusted": true,
        "id": "DtgOfRSrv3Lt",
        "colab": {
          "base_uri": "https://localhost:8080/",
          "height": 226
        },
        "outputId": "15fe876b-9ed5-46d2-ee65-37e878554b24"
      },
      "execution_count": 4,
      "outputs": [
        {
          "output_type": "execute_result",
          "data": {
            "text/plain": [
              "   step      type    amount     nameOrig  oldbalanceOrg  newbalanceOrig  \\\n",
              "0     1   PAYMENT   9839.64  C1231006815       170136.0       160296.36   \n",
              "1     1   PAYMENT   1864.28  C1666544295        21249.0        19384.72   \n",
              "2     1  TRANSFER    181.00  C1305486145          181.0            0.00   \n",
              "3     1  CASH_OUT    181.00   C840083671          181.0            0.00   \n",
              "4     1   PAYMENT  11668.14  C2048537720        41554.0        29885.86   \n",
              "\n",
              "      nameDest  oldbalanceDest  newbalanceDest  isFraud  isFlaggedFraud  \n",
              "0  M1979787155             0.0             0.0        0               0  \n",
              "1  M2044282225             0.0             0.0        0               0  \n",
              "2   C553264065             0.0             0.0        1               0  \n",
              "3    C38997010         21182.0             0.0        1               0  \n",
              "4  M1230701703             0.0             0.0        0               0  "
            ],
            "text/html": [
              "\n",
              "  <div id=\"df-e53ce108-3ff1-4ba9-b472-73882a26a0bd\" class=\"colab-df-container\">\n",
              "    <div>\n",
              "<style scoped>\n",
              "    .dataframe tbody tr th:only-of-type {\n",
              "        vertical-align: middle;\n",
              "    }\n",
              "\n",
              "    .dataframe tbody tr th {\n",
              "        vertical-align: top;\n",
              "    }\n",
              "\n",
              "    .dataframe thead th {\n",
              "        text-align: right;\n",
              "    }\n",
              "</style>\n",
              "<table border=\"1\" class=\"dataframe\">\n",
              "  <thead>\n",
              "    <tr style=\"text-align: right;\">\n",
              "      <th></th>\n",
              "      <th>step</th>\n",
              "      <th>type</th>\n",
              "      <th>amount</th>\n",
              "      <th>nameOrig</th>\n",
              "      <th>oldbalanceOrg</th>\n",
              "      <th>newbalanceOrig</th>\n",
              "      <th>nameDest</th>\n",
              "      <th>oldbalanceDest</th>\n",
              "      <th>newbalanceDest</th>\n",
              "      <th>isFraud</th>\n",
              "      <th>isFlaggedFraud</th>\n",
              "    </tr>\n",
              "  </thead>\n",
              "  <tbody>\n",
              "    <tr>\n",
              "      <th>0</th>\n",
              "      <td>1</td>\n",
              "      <td>PAYMENT</td>\n",
              "      <td>9839.64</td>\n",
              "      <td>C1231006815</td>\n",
              "      <td>170136.0</td>\n",
              "      <td>160296.36</td>\n",
              "      <td>M1979787155</td>\n",
              "      <td>0.0</td>\n",
              "      <td>0.0</td>\n",
              "      <td>0</td>\n",
              "      <td>0</td>\n",
              "    </tr>\n",
              "    <tr>\n",
              "      <th>1</th>\n",
              "      <td>1</td>\n",
              "      <td>PAYMENT</td>\n",
              "      <td>1864.28</td>\n",
              "      <td>C1666544295</td>\n",
              "      <td>21249.0</td>\n",
              "      <td>19384.72</td>\n",
              "      <td>M2044282225</td>\n",
              "      <td>0.0</td>\n",
              "      <td>0.0</td>\n",
              "      <td>0</td>\n",
              "      <td>0</td>\n",
              "    </tr>\n",
              "    <tr>\n",
              "      <th>2</th>\n",
              "      <td>1</td>\n",
              "      <td>TRANSFER</td>\n",
              "      <td>181.00</td>\n",
              "      <td>C1305486145</td>\n",
              "      <td>181.0</td>\n",
              "      <td>0.00</td>\n",
              "      <td>C553264065</td>\n",
              "      <td>0.0</td>\n",
              "      <td>0.0</td>\n",
              "      <td>1</td>\n",
              "      <td>0</td>\n",
              "    </tr>\n",
              "    <tr>\n",
              "      <th>3</th>\n",
              "      <td>1</td>\n",
              "      <td>CASH_OUT</td>\n",
              "      <td>181.00</td>\n",
              "      <td>C840083671</td>\n",
              "      <td>181.0</td>\n",
              "      <td>0.00</td>\n",
              "      <td>C38997010</td>\n",
              "      <td>21182.0</td>\n",
              "      <td>0.0</td>\n",
              "      <td>1</td>\n",
              "      <td>0</td>\n",
              "    </tr>\n",
              "    <tr>\n",
              "      <th>4</th>\n",
              "      <td>1</td>\n",
              "      <td>PAYMENT</td>\n",
              "      <td>11668.14</td>\n",
              "      <td>C2048537720</td>\n",
              "      <td>41554.0</td>\n",
              "      <td>29885.86</td>\n",
              "      <td>M1230701703</td>\n",
              "      <td>0.0</td>\n",
              "      <td>0.0</td>\n",
              "      <td>0</td>\n",
              "      <td>0</td>\n",
              "    </tr>\n",
              "  </tbody>\n",
              "</table>\n",
              "</div>\n",
              "    <div class=\"colab-df-buttons\">\n",
              "\n",
              "  <div class=\"colab-df-container\">\n",
              "    <button class=\"colab-df-convert\" onclick=\"convertToInteractive('df-e53ce108-3ff1-4ba9-b472-73882a26a0bd')\"\n",
              "            title=\"Convert this dataframe to an interactive table.\"\n",
              "            style=\"display:none;\">\n",
              "\n",
              "  <svg xmlns=\"http://www.w3.org/2000/svg\" height=\"24px\" viewBox=\"0 -960 960 960\">\n",
              "    <path d=\"M120-120v-720h720v720H120Zm60-500h600v-160H180v160Zm220 220h160v-160H400v160Zm0 220h160v-160H400v160ZM180-400h160v-160H180v160Zm440 0h160v-160H620v160ZM180-180h160v-160H180v160Zm440 0h160v-160H620v160Z\"/>\n",
              "  </svg>\n",
              "    </button>\n",
              "\n",
              "  <style>\n",
              "    .colab-df-container {\n",
              "      display:flex;\n",
              "      gap: 12px;\n",
              "    }\n",
              "\n",
              "    .colab-df-convert {\n",
              "      background-color: #E8F0FE;\n",
              "      border: none;\n",
              "      border-radius: 50%;\n",
              "      cursor: pointer;\n",
              "      display: none;\n",
              "      fill: #1967D2;\n",
              "      height: 32px;\n",
              "      padding: 0 0 0 0;\n",
              "      width: 32px;\n",
              "    }\n",
              "\n",
              "    .colab-df-convert:hover {\n",
              "      background-color: #E2EBFA;\n",
              "      box-shadow: 0px 1px 2px rgba(60, 64, 67, 0.3), 0px 1px 3px 1px rgba(60, 64, 67, 0.15);\n",
              "      fill: #174EA6;\n",
              "    }\n",
              "\n",
              "    .colab-df-buttons div {\n",
              "      margin-bottom: 4px;\n",
              "    }\n",
              "\n",
              "    [theme=dark] .colab-df-convert {\n",
              "      background-color: #3B4455;\n",
              "      fill: #D2E3FC;\n",
              "    }\n",
              "\n",
              "    [theme=dark] .colab-df-convert:hover {\n",
              "      background-color: #434B5C;\n",
              "      box-shadow: 0px 1px 3px 1px rgba(0, 0, 0, 0.15);\n",
              "      filter: drop-shadow(0px 1px 2px rgba(0, 0, 0, 0.3));\n",
              "      fill: #FFFFFF;\n",
              "    }\n",
              "  </style>\n",
              "\n",
              "    <script>\n",
              "      const buttonEl =\n",
              "        document.querySelector('#df-e53ce108-3ff1-4ba9-b472-73882a26a0bd button.colab-df-convert');\n",
              "      buttonEl.style.display =\n",
              "        google.colab.kernel.accessAllowed ? 'block' : 'none';\n",
              "\n",
              "      async function convertToInteractive(key) {\n",
              "        const element = document.querySelector('#df-e53ce108-3ff1-4ba9-b472-73882a26a0bd');\n",
              "        const dataTable =\n",
              "          await google.colab.kernel.invokeFunction('convertToInteractive',\n",
              "                                                    [key], {});\n",
              "        if (!dataTable) return;\n",
              "\n",
              "        const docLinkHtml = 'Like what you see? Visit the ' +\n",
              "          '<a target=\"_blank\" href=https://colab.research.google.com/notebooks/data_table.ipynb>data table notebook</a>'\n",
              "          + ' to learn more about interactive tables.';\n",
              "        element.innerHTML = '';\n",
              "        dataTable['output_type'] = 'display_data';\n",
              "        await google.colab.output.renderOutput(dataTable, element);\n",
              "        const docLink = document.createElement('div');\n",
              "        docLink.innerHTML = docLinkHtml;\n",
              "        element.appendChild(docLink);\n",
              "      }\n",
              "    </script>\n",
              "  </div>\n",
              "\n",
              "\n",
              "<div id=\"df-37af0442-c086-4550-8c73-3b6745dfdd03\">\n",
              "  <button class=\"colab-df-quickchart\" onclick=\"quickchart('df-37af0442-c086-4550-8c73-3b6745dfdd03')\"\n",
              "            title=\"Suggest charts\"\n",
              "            style=\"display:none;\">\n",
              "\n",
              "<svg xmlns=\"http://www.w3.org/2000/svg\" height=\"24px\"viewBox=\"0 0 24 24\"\n",
              "     width=\"24px\">\n",
              "    <g>\n",
              "        <path d=\"M19 3H5c-1.1 0-2 .9-2 2v14c0 1.1.9 2 2 2h14c1.1 0 2-.9 2-2V5c0-1.1-.9-2-2-2zM9 17H7v-7h2v7zm4 0h-2V7h2v10zm4 0h-2v-4h2v4z\"/>\n",
              "    </g>\n",
              "</svg>\n",
              "  </button>\n",
              "\n",
              "<style>\n",
              "  .colab-df-quickchart {\n",
              "      --bg-color: #E8F0FE;\n",
              "      --fill-color: #1967D2;\n",
              "      --hover-bg-color: #E2EBFA;\n",
              "      --hover-fill-color: #174EA6;\n",
              "      --disabled-fill-color: #AAA;\n",
              "      --disabled-bg-color: #DDD;\n",
              "  }\n",
              "\n",
              "  [theme=dark] .colab-df-quickchart {\n",
              "      --bg-color: #3B4455;\n",
              "      --fill-color: #D2E3FC;\n",
              "      --hover-bg-color: #434B5C;\n",
              "      --hover-fill-color: #FFFFFF;\n",
              "      --disabled-bg-color: #3B4455;\n",
              "      --disabled-fill-color: #666;\n",
              "  }\n",
              "\n",
              "  .colab-df-quickchart {\n",
              "    background-color: var(--bg-color);\n",
              "    border: none;\n",
              "    border-radius: 50%;\n",
              "    cursor: pointer;\n",
              "    display: none;\n",
              "    fill: var(--fill-color);\n",
              "    height: 32px;\n",
              "    padding: 0;\n",
              "    width: 32px;\n",
              "  }\n",
              "\n",
              "  .colab-df-quickchart:hover {\n",
              "    background-color: var(--hover-bg-color);\n",
              "    box-shadow: 0 1px 2px rgba(60, 64, 67, 0.3), 0 1px 3px 1px rgba(60, 64, 67, 0.15);\n",
              "    fill: var(--button-hover-fill-color);\n",
              "  }\n",
              "\n",
              "  .colab-df-quickchart-complete:disabled,\n",
              "  .colab-df-quickchart-complete:disabled:hover {\n",
              "    background-color: var(--disabled-bg-color);\n",
              "    fill: var(--disabled-fill-color);\n",
              "    box-shadow: none;\n",
              "  }\n",
              "\n",
              "  .colab-df-spinner {\n",
              "    border: 2px solid var(--fill-color);\n",
              "    border-color: transparent;\n",
              "    border-bottom-color: var(--fill-color);\n",
              "    animation:\n",
              "      spin 1s steps(1) infinite;\n",
              "  }\n",
              "\n",
              "  @keyframes spin {\n",
              "    0% {\n",
              "      border-color: transparent;\n",
              "      border-bottom-color: var(--fill-color);\n",
              "      border-left-color: var(--fill-color);\n",
              "    }\n",
              "    20% {\n",
              "      border-color: transparent;\n",
              "      border-left-color: var(--fill-color);\n",
              "      border-top-color: var(--fill-color);\n",
              "    }\n",
              "    30% {\n",
              "      border-color: transparent;\n",
              "      border-left-color: var(--fill-color);\n",
              "      border-top-color: var(--fill-color);\n",
              "      border-right-color: var(--fill-color);\n",
              "    }\n",
              "    40% {\n",
              "      border-color: transparent;\n",
              "      border-right-color: var(--fill-color);\n",
              "      border-top-color: var(--fill-color);\n",
              "    }\n",
              "    60% {\n",
              "      border-color: transparent;\n",
              "      border-right-color: var(--fill-color);\n",
              "    }\n",
              "    80% {\n",
              "      border-color: transparent;\n",
              "      border-right-color: var(--fill-color);\n",
              "      border-bottom-color: var(--fill-color);\n",
              "    }\n",
              "    90% {\n",
              "      border-color: transparent;\n",
              "      border-bottom-color: var(--fill-color);\n",
              "    }\n",
              "  }\n",
              "</style>\n",
              "\n",
              "  <script>\n",
              "    async function quickchart(key) {\n",
              "      const quickchartButtonEl =\n",
              "        document.querySelector('#' + key + ' button');\n",
              "      quickchartButtonEl.disabled = true;  // To prevent multiple clicks.\n",
              "      quickchartButtonEl.classList.add('colab-df-spinner');\n",
              "      try {\n",
              "        const charts = await google.colab.kernel.invokeFunction(\n",
              "            'suggestCharts', [key], {});\n",
              "      } catch (error) {\n",
              "        console.error('Error during call to suggestCharts:', error);\n",
              "      }\n",
              "      quickchartButtonEl.classList.remove('colab-df-spinner');\n",
              "      quickchartButtonEl.classList.add('colab-df-quickchart-complete');\n",
              "    }\n",
              "    (() => {\n",
              "      let quickchartButtonEl =\n",
              "        document.querySelector('#df-37af0442-c086-4550-8c73-3b6745dfdd03 button');\n",
              "      quickchartButtonEl.style.display =\n",
              "        google.colab.kernel.accessAllowed ? 'block' : 'none';\n",
              "    })();\n",
              "  </script>\n",
              "</div>\n",
              "    </div>\n",
              "  </div>\n"
            ],
            "application/vnd.google.colaboratory.intrinsic+json": {
              "type": "dataframe",
              "variable_name": "df"
            }
          },
          "metadata": {},
          "execution_count": 4
        }
      ]
    },
    {
      "cell_type": "code",
      "source": [
        "print('\\nTypes of transaction are :', list((df.PaymentType).drop_duplicates().values))\n",
        "\n",
        "Fraud_trans = df.loc[df['isFraud'] == 1].PaymentType.drop_duplicates().values\n",
        "print('\\nTypes of payment method used for Fraud Payment are',Fraud_trans) #TRANSFER AND CASH_OUT\n"
      ],
      "metadata": {
        "execution": {
          "iopub.status.busy": "2022-11-25T15:40:54.015615Z",
          "iopub.execute_input": "2022-11-25T15:40:54.016256Z",
          "iopub.status.idle": "2022-11-25T15:40:54.329595Z",
          "shell.execute_reply.started": "2022-11-25T15:40:54.016197Z",
          "shell.execute_reply": "2022-11-25T15:40:54.327791Z"
        },
        "trusted": true,
        "id": "uorwnhO0v3MH",
        "colab": {
          "base_uri": "https://localhost:8080/"
        },
        "outputId": "9384ceee-cabc-4262-f33c-3a8a1914b818"
      },
      "execution_count": 8,
      "outputs": [
        {
          "output_type": "stream",
          "name": "stdout",
          "text": [
            "\n",
            "Types of transaction are : ['PAYMENT', 'TRANSFER', 'CASH_OUT', 'DEBIT', 'CASH_IN']\n",
            "\n",
            "Types of payment method used for Fraud Payment are ['TRANSFER' 'CASH_OUT']\n"
          ]
        }
      ]
    },
    {
      "cell_type": "code",
      "source": [
        "total_fradulent = len(df.loc[(df.isFraud == 1)])\n",
        "print('\\nTotal number of Fradulent Transaction are: ',total_fradulent) #8213\n",
        "\n",
        "Fraud_Transfer= (df.loc[(df.isFraud == 1)&(df.PaymentType == 'TRANSFER')])\n",
        "\n",
        "print('\\nNumber of fradulent via Transfers: ',len(Fraud_Transfer))  #4097\n",
        "\n",
        "Fraud_Cash_out = (df.loc[(df.isFraud == 1)&(df.PaymentType == 'CASH_OUT')])\n",
        "print('\\nNumber of fradulent via Cash_Out: ', len(Fraud_Cash_out))  #4116"
      ],
      "metadata": {
        "execution": {
          "iopub.status.busy": "2022-11-25T15:40:54.331259Z",
          "iopub.execute_input": "2022-11-25T15:40:54.331596Z",
          "iopub.status.idle": "2022-11-25T15:40:55.32564Z",
          "shell.execute_reply.started": "2022-11-25T15:40:54.331564Z",
          "shell.execute_reply": "2022-11-25T15:40:55.324142Z"
        },
        "trusted": true,
        "id": "gaab8iZyv3MI",
        "colab": {
          "base_uri": "https://localhost:8080/"
        },
        "outputId": "8d315498-1ee1-43a7-ce57-6aeda9681d14"
      },
      "execution_count": 9,
      "outputs": [
        {
          "output_type": "stream",
          "name": "stdout",
          "text": [
            "\n",
            "Total number of Fradulent Transaction are:  8213\n",
            "\n",
            "Number of fradulent via Transfers:  4097\n",
            "\n",
            "Number of fradulent via Cash_Out:  4116\n"
          ]
        }
      ]
    },
    {
      "cell_type": "code",
      "source": [
        "# #method of transaction used for isFlaggedFraud set up\n",
        "FlaggedFraud_tran =  df.loc[df['isFlaggedFraud'] == 1].PaymentType.drop_duplicates().values\n",
        "print('\\nMethod of transaction used for isFlaggedFraud set: ',FlaggedFraud_tran)\n",
        "\n",
        "FlaggedFraud_amt= len(df.loc[(df.amount > 200000)&(df.isFlaggedFraud == 1)&(df.PaymentType == 'TRANSFER')])\n",
        "print('\\nThe number of transaction having amount > 200,000 and transaction is in isFlaggedFraud set :',FlaggedFraud_amt)  #16\n",
        "\n",
        "NotFlaggedFraud_amt= len(df.loc[(df.amount > 200000)&(df.isFlaggedFraud == 0)&(df.PaymentType == 'TRANSFER')])\n",
        "print('\\nThe number of TRANSFER having amount > 200,000 still being not set in isFlaggedFraud are :',NotFlaggedFraud_amt)  #409094\n",
        "\n",
        "Max_NotisFlaggedFraud = (df.loc[(df.PaymentType == 'TRANSFER') &(df.isFlaggedFraud == 0)]).amount.max()\n",
        "print('\\nInfact, the maximum amount paid in isFlaggedFraud set via \"TRANSFER\" is', Max_NotisFlaggedFraud)  #92445516.64"
      ],
      "metadata": {
        "execution": {
          "iopub.status.busy": "2022-11-25T15:40:55.327681Z",
          "iopub.execute_input": "2022-11-25T15:40:55.328715Z",
          "iopub.status.idle": "2022-11-25T15:40:57.06198Z",
          "shell.execute_reply.started": "2022-11-25T15:40:55.328663Z",
          "shell.execute_reply": "2022-11-25T15:40:57.060777Z"
        },
        "trusted": true,
        "id": "G8p_wYB3v3MJ",
        "colab": {
          "base_uri": "https://localhost:8080/"
        },
        "outputId": "2b47ad69-7bc3-4d44-8c2e-44e034eda1c3"
      },
      "execution_count": 10,
      "outputs": [
        {
          "output_type": "stream",
          "name": "stdout",
          "text": [
            "\n",
            "Method of transaction used for isFlaggedFraud set:  ['TRANSFER']\n",
            "\n",
            "The number of TRANSFER having amount > 200,000 still being not set in isFlaggedFraud are : 409094\n",
            "\n",
            "Infact, the maximum amount paid in isFlaggedFraud set via \"TRANSFER\" is 92445516.64\n"
          ]
        }
      ]
    },
    {
      "cell_type": "code",
      "source": [
        "Old_New_FlaggedFraud = len(df.loc[df.PaymentType == 'TRANSFER'].loc[(df[df.PaymentType == 'TRANSFER'].isFlaggedFraud ==0)&(df[df.PaymentType == 'TRANSFER'].OldBalanceDest == 0)&(df[df.PaymentType == 'TRANSFER'].NewBalanceDest == 0)])\n",
        "print('\\nThe number of TRANSFERs where isFlaggedFraud = 0, yet oldBalanceDest = 0 and newBalanceDest :',Old_New_FlaggedFraud)  #4158"
      ],
      "metadata": {
        "execution": {
          "iopub.status.busy": "2022-11-25T15:40:57.067894Z",
          "iopub.execute_input": "2022-11-25T15:40:57.06828Z",
          "iopub.status.idle": "2022-11-25T15:40:59.350349Z",
          "shell.execute_reply.started": "2022-11-25T15:40:57.068247Z",
          "shell.execute_reply": "2022-11-25T15:40:59.348946Z"
        },
        "trusted": true,
        "id": "i5QPIUsQv3MK",
        "colab": {
          "base_uri": "https://localhost:8080/"
        },
        "outputId": "b72c2368-b476-498c-c84b-9fe0ebe5ed9d"
      },
      "execution_count": 11,
      "outputs": [
        {
          "output_type": "stream",
          "name": "stdout",
          "text": [
            "\n",
            "The number of TRANSFERs where isFlaggedFraud = 0, yet oldBalanceDest = 0 and newBalanceDest : 4158\n"
          ]
        }
      ]
    },
    {
      "cell_type": "code",
      "source": [
        "min_flagged_amt = round(df[df.isFlaggedFraud==1].OldBalanceOrg.min())\n",
        "max_flagged_amt = round(df[df.isFlaggedFraud==1].OldBalanceOrg.max())\n",
        "\n",
        "print('\\nMin, Max amount of OldBalanceOrg for isFlaggdFraud set: ', min_flagged_amt,',', max_flagged_amt, 'respectively')  #353874, 19585040\n",
        "\n",
        "min_notFlagged_amt = round(df[df.isFlaggedFraud==0].OldBalanceOrg.min())\n",
        "max_notFlagged_amt = round(df[df.isFlaggedFraud==0].OldBalanceOrg.max())\n",
        "\n",
        "print('\\nMin, Max amount of OldBalanceOrg for isFlaggdFraud not set: ',min_notFlagged_amt,',', max_notFlagged_amt,'repectively')  #0, 59585040"
      ],
      "metadata": {
        "execution": {
          "iopub.status.busy": "2022-11-25T15:40:59.352117Z",
          "iopub.execute_input": "2022-11-25T15:40:59.353326Z",
          "iopub.status.idle": "2022-11-25T15:41:00.938628Z",
          "shell.execute_reply.started": "2022-11-25T15:40:59.353277Z",
          "shell.execute_reply": "2022-11-25T15:41:00.937502Z"
        },
        "trusted": true,
        "id": "UII32fkCv3MK",
        "colab": {
          "base_uri": "https://localhost:8080/"
        },
        "outputId": "97b85aed-334e-47a7-cfc5-a3291b182a8c"
      },
      "execution_count": 12,
      "outputs": [
        {
          "output_type": "stream",
          "name": "stdout",
          "text": [
            "\n",
            "Min, Max amount of OldBalanceOrg for isFlaggdFraud set:  353874 , 19585040 respectively\n",
            "\n",
            "Min, Max amount of OldBalanceOrg for isFlaggdFraud not set:  0 , 59585040 repectively\n"
          ]
        }
      ]
    },
    {
      "cell_type": "code",
      "source": [
        "dfFlagged = df.loc[df.isFlaggedFraud == 1]\n",
        "dfNotFlagged = df.loc[df.isFlaggedFraud == 0]"
      ],
      "metadata": {
        "execution": {
          "iopub.status.busy": "2022-11-25T15:41:00.939995Z",
          "iopub.execute_input": "2022-11-25T15:41:00.940358Z",
          "iopub.status.idle": "2022-11-25T15:41:01.604368Z",
          "shell.execute_reply.started": "2022-11-25T15:41:00.940327Z",
          "shell.execute_reply": "2022-11-25T15:41:01.603115Z"
        },
        "trusted": true,
        "id": "tw1i80HLv3MK"
      },
      "execution_count": 13,
      "outputs": []
    },
    {
      "cell_type": "code",
      "source": [
        "FlaggedFraud_org = dfFlagged.NameOrig.isin(pd.concat([dfNotFlagged.NameOrig, dfNotFlagged.NameDest])).any()\n",
        "print('\\nHave originator involved in isFlaedFraud transaction have done transaction more than once?',FlaggedFraud_org)  #False\n",
        "\n",
        "FlaggedFraud_dest = dfFlagged.NameOrig.isin(dfNotFlagged.NameOrig).any()\n",
        "print('\\nHave any destination account from isFlagedFraud set have made transaction more than once?',FlaggedFraud_dest)  #False\n",
        "\n",
        "Fraud_acc = dfFlagged.NameDest.isin(dfNotFlagged.NameDest).sum()\n",
        "print('\\nNumber of destination account used for Fraud transaction more than once:',Fraud_acc)  #2"
      ],
      "metadata": {
        "execution": {
          "iopub.status.busy": "2022-11-25T15:41:01.60602Z",
          "iopub.execute_input": "2022-11-25T15:41:01.606528Z",
          "iopub.status.idle": "2022-11-25T15:41:10.082727Z",
          "shell.execute_reply.started": "2022-11-25T15:41:01.606481Z",
          "shell.execute_reply": "2022-11-25T15:41:10.081507Z"
        },
        "trusted": true,
        "id": "7WOmNFoOv3ML",
        "colab": {
          "base_uri": "https://localhost:8080/"
        },
        "outputId": "9ecc06cf-bcf0-4b3d-8497-21dda8e6ab66"
      },
      "execution_count": 14,
      "outputs": [
        {
          "output_type": "stream",
          "name": "stdout",
          "text": [
            "\n",
            "Have originator involved in isFlaedFraud transaction have done transaction more than once? False\n",
            "\n",
            "Have any destination account from isFlagedFraud set have made transaction more than once? False\n",
            "\n",
            "Number of destination account used for Fraud transaction more than once: 2\n"
          ]
        }
      ]
    },
    {
      "cell_type": "code",
      "source": [
        "# for 'CASH_IN'\n",
        "Merc_Cash_in =(df.loc[df.PaymentType == 'CASH_IN'].NameOrig.str.contains('M')).any()\n",
        "print('\\nAre Merchant involved in any transaction from origination account?',Merc_Cash_in)  #False\n",
        "\n",
        "#for CASH_OUT\n",
        "Merc_Cash_out =(df.loc[df.PaymentType == 'CASH_OUT'].NameDest.str.contains('M')).any()\n",
        "print('\\nAre Merchant involved in any transaction to destination account?',Merc_Cash_out)  #False"
      ],
      "metadata": {
        "execution": {
          "iopub.status.busy": "2022-11-25T15:41:10.084209Z",
          "iopub.execute_input": "2022-11-25T15:41:10.084615Z",
          "iopub.status.idle": "2022-11-25T15:41:13.622395Z",
          "shell.execute_reply.started": "2022-11-25T15:41:10.084579Z",
          "shell.execute_reply": "2022-11-25T15:41:13.621035Z"
        },
        "trusted": true,
        "id": "46gcGtsev3ML",
        "colab": {
          "base_uri": "https://localhost:8080/"
        },
        "outputId": "541bbf50-24df-4249-bd5f-474575109326"
      },
      "execution_count": 15,
      "outputs": [
        {
          "output_type": "stream",
          "name": "stdout",
          "text": [
            "\n",
            "Are Merchant involved in any transaction from origination account? False\n",
            "\n",
            "Are Merchant involved in any transaction to destination account? False\n"
          ]
        }
      ]
    },
    {
      "cell_type": "code",
      "source": [
        "Orig_Merch = df.loc[df.NameOrig.str.contains('M')].any()\n",
        "print('\\nAre there any originator accounts which includes Merchant:',Orig_Merch)\n",
        "\n",
        "Dest_Merch =  (df.loc[df.NameDest.str.contains('M')].PaymentType != 'PAYMENT').any()\n",
        "print('\\nIs there any transaction made to a merchant account, i.e is there any Merchant in dstination account:',Dest_Merch)"
      ],
      "metadata": {
        "execution": {
          "iopub.status.busy": "2022-11-25T15:41:13.623667Z",
          "iopub.execute_input": "2022-11-25T15:41:13.624151Z",
          "iopub.status.idle": "2022-11-25T15:41:20.27233Z",
          "shell.execute_reply.started": "2022-11-25T15:41:13.624102Z",
          "shell.execute_reply": "2022-11-25T15:41:20.270994Z"
        },
        "trusted": true,
        "id": "lJUTLRFxv3MM",
        "colab": {
          "base_uri": "https://localhost:8080/"
        },
        "outputId": "7bd26e35-0128-409c-b791-8563826fe89d"
      },
      "execution_count": 16,
      "outputs": [
        {
          "output_type": "stream",
          "name": "stdout",
          "text": [
            "\n",
            "Are there any originator accounts which includes Merchant: step              False\n",
            "PaymentType       False\n",
            "amount            False\n",
            "NameOrig          False\n",
            "OldBalanceOrg     False\n",
            "NewBalanceOrig    False\n",
            "NameDest          False\n",
            "OldBalanceDest    False\n",
            "NewBalanceDest    False\n",
            "isFraud           False\n",
            "isFlaggedFraud    False\n",
            "dtype: bool\n",
            "\n",
            "Is there any transaction made to a merchant account, i.e is there any Merchant in dstination account: False\n"
          ]
        }
      ]
    },
    {
      "cell_type": "code",
      "source": [
        "Tran_Cash_out = Fraud_Transfer.NameDest.isin(Fraud_Cash_out.NameOrig).any()\n",
        "print('\\nAre there destinations for TRANSFERS that are also originators for CASH_OUTs for fraudelent transactions:',Tran_Cash_out)  #False"
      ],
      "metadata": {
        "execution": {
          "iopub.status.busy": "2022-11-25T15:41:20.273618Z",
          "iopub.execute_input": "2022-11-25T15:41:20.274006Z",
          "iopub.status.idle": "2022-11-25T15:41:20.282847Z",
          "shell.execute_reply.started": "2022-11-25T15:41:20.273971Z",
          "shell.execute_reply": "2022-11-25T15:41:20.281609Z"
        },
        "trusted": true,
        "id": "gzgkoNmwv3MN",
        "colab": {
          "base_uri": "https://localhost:8080/"
        },
        "outputId": "3da8185c-60ad-4e85-db23-42139a9cf3b8"
      },
      "execution_count": 17,
      "outputs": [
        {
          "output_type": "stream",
          "name": "stdout",
          "text": [
            "\n",
            "Are there destinations for TRANSFERS that are also originators for CASH_OUTs for fraudelent transactions: False\n"
          ]
        }
      ]
    },
    {
      "cell_type": "code",
      "source": [
        "Not_Fraud = df.loc[df.isFraud == 0]\n",
        "#The 3 accounts which such behaviour are:\n",
        "NonFlagged = Fraud_Transfer.loc[Fraud_Transfer.NameDest.isin(Not_Fraud.loc[Not_Fraud.PaymentType == 'CASH_OUT'].NameOrig.drop_duplicates())]\n",
        "print(\"Those destination account where fraudlent TRANSFER were made whcih were originator account for CASH_OUT: \\n\\n\", NonFlagged)"
      ],
      "metadata": {
        "execution": {
          "iopub.status.busy": "2022-11-25T15:41:20.284192Z",
          "iopub.execute_input": "2022-11-25T15:41:20.284568Z",
          "iopub.status.idle": "2022-11-25T15:41:23.209473Z",
          "shell.execute_reply.started": "2022-11-25T15:41:20.284516Z",
          "shell.execute_reply": "2022-11-25T15:41:23.208124Z"
        },
        "trusted": true,
        "id": "WT0MtUzxv3MN",
        "colab": {
          "base_uri": "https://localhost:8080/"
        },
        "outputId": "e24b95d5-d43a-4611-b8b4-d84d255d3860"
      },
      "execution_count": 18,
      "outputs": [
        {
          "output_type": "stream",
          "name": "stdout",
          "text": [
            "Those destination account where fraudlent TRANSFER were made whcih were originator account for CASH_OUT: \n",
            "\n",
            "          step PaymentType      amount     NameOrig  OldBalanceOrg  \\\n",
            "1030443    65    TRANSFER  1282971.57  C1175896731     1282971.57   \n",
            "6039814   486    TRANSFER   214793.32  C2140495649      214793.32   \n",
            "6362556   738    TRANSFER   814689.88  C2029041842      814689.88   \n",
            "\n",
            "         NewBalanceOrig     NameDest  OldBalanceDest  NewBalanceDest  isFraud  \\\n",
            "1030443             0.0  C1714931087             0.0             0.0        1   \n",
            "6039814             0.0   C423543548             0.0             0.0        1   \n",
            "6362556             0.0  C1023330867             0.0             0.0        1   \n",
            "\n",
            "         isFlaggedFraud  \n",
            "1030443               0  \n",
            "6039814               0  \n",
            "6362556               0  \n"
          ]
        }
      ]
    },
    {
      "cell_type": "code",
      "source": [
        "X = df.loc[(df.PaymentType == 'TRANSFER') | (df.PaymentType == 'CASH_OUT')]\n",
        "Y = X['isFraud']\n",
        "del X['isFraud']\n",
        "\n",
        "#removing irrelevant column for analysis\n",
        "X = X.drop(['NameOrig', 'NameDest', 'isFlaggedFraud'], axis = 1)\n",
        "\n",
        "# Changing the labelled data of TRANSFER transaction to 0 and CASH_OUT to 1\n",
        "X.loc[X.PaymentType == 'TRANSFER', 'PaymentType'] = 0\n",
        "X.loc[X.PaymentType == 'CASH_OUT', 'PaymentType'] = 1\n",
        "X.PaymentType = X.PaymentType.astype(int)"
      ],
      "metadata": {
        "execution": {
          "iopub.status.busy": "2022-11-25T15:41:23.211055Z",
          "iopub.execute_input": "2022-11-25T15:41:23.21149Z",
          "iopub.status.idle": "2022-11-25T15:41:25.927326Z",
          "shell.execute_reply.started": "2022-11-25T15:41:23.211458Z",
          "shell.execute_reply": "2022-11-25T15:41:25.926057Z"
        },
        "trusted": true,
        "id": "pZKu_DbUv3MO"
      },
      "execution_count": 19,
      "outputs": []
    },
    {
      "cell_type": "code",
      "source": [],
      "metadata": {
        "id": "dicZIq70PPWf"
      },
      "execution_count": null,
      "outputs": []
    },
    {
      "cell_type": "code",
      "source": [
        "XFraud = X.loc[Y == 1 ]\n",
        "XnonFraud = X.loc[ Y == 0]\n",
        "\n",
        "Fraud_Frac = len(XFraud.loc[(XFraud.OldBalanceDest == 0) & (XFraud.NewBalanceDest == 0) & (XFraud.amount)])/(1.0 * len(XFraud))\n",
        "print('\\nThe fraction of those fraud transaction which have both OldBalanceDest and NewBalancDest = 0 even if transaction amount is non-zero:',(Fraud_Frac))  #0.495555\n",
        "\n",
        "#similarly for geniune transaction\n",
        "NonFraud_Frac = len(XnonFraud.loc[(XnonFraud.OldBalanceDest == 0) & (XnonFraud.NewBalanceDest == 0) & (XnonFraud.amount)])/(1.0 * len(XnonFraud))\n",
        "print('\\nThe fraction of geniune transaction which have both OldBalanceDest and NewBalancDest = 0 even if transaction amount is non-zero:',(NonFraud_Frac))  #0.00061"
      ],
      "metadata": {
        "execution": {
          "iopub.status.busy": "2022-11-25T15:41:25.92894Z",
          "iopub.execute_input": "2022-11-25T15:41:25.929442Z",
          "iopub.status.idle": "2022-11-25T15:41:26.10678Z",
          "shell.execute_reply.started": "2022-11-25T15:41:25.9294Z",
          "shell.execute_reply": "2022-11-25T15:41:26.105654Z"
        },
        "trusted": true,
        "id": "Kd_Niv1lv3MP",
        "colab": {
          "base_uri": "https://localhost:8080/"
        },
        "outputId": "eb6b29e8-e770-49a5-ba99-4d494ee09108"
      },
      "execution_count": 20,
      "outputs": [
        {
          "output_type": "stream",
          "name": "stdout",
          "text": [
            "\n",
            "The fraction of those fraud transaction which have both OldBalanceDest and NewBalancDest = 0 even if transaction amount is non-zero: 0.4955558261293072\n",
            "\n",
            "The fraction of geniune transaction which have both OldBalanceDest and NewBalancDest = 0 even if transaction amount is non-zero: 0.0006176245277308345\n"
          ]
        }
      ]
    },
    {
      "cell_type": "code",
      "source": [
        "X.loc[(X.OldBalanceDest == 0) & (X.NewBalanceDest == 0) & (X.amount != 0),\\\n",
        "      ['OldBalanceDest', 'NewBalanceDest']] = - 1"
      ],
      "metadata": {
        "execution": {
          "iopub.status.busy": "2022-11-25T15:41:26.108134Z",
          "iopub.execute_input": "2022-11-25T15:41:26.108475Z",
          "iopub.status.idle": "2022-11-25T15:41:26.169852Z",
          "shell.execute_reply.started": "2022-11-25T15:41:26.108443Z",
          "shell.execute_reply": "2022-11-25T15:41:26.168664Z"
        },
        "trusted": true,
        "id": "3OY3lf2Lv3MQ"
      },
      "execution_count": 21,
      "outputs": []
    },
    {
      "cell_type": "code",
      "source": [
        "X.loc[(X.OldBalanceOrg == 0) & (X.NewBalanceOrig == 0) & (X.amount != 0),\\\n",
        "      ['OldBalanceOrg', 'NewBalanceOrig']] = np.nan"
      ],
      "metadata": {
        "execution": {
          "iopub.status.busy": "2022-11-25T15:41:26.171139Z",
          "iopub.execute_input": "2022-11-25T15:41:26.171472Z",
          "iopub.status.idle": "2022-11-25T15:41:26.254311Z",
          "shell.execute_reply.started": "2022-11-25T15:41:26.171443Z",
          "shell.execute_reply": "2022-11-25T15:41:26.253119Z"
        },
        "trusted": true,
        "id": "uAKOZdP-v3Ma"
      },
      "execution_count": 22,
      "outputs": []
    },
    {
      "cell_type": "code",
      "source": [
        "X['errorBalanceDest'] = X.OldBalanceDest + X.amount - X.NewBalanceDest\n",
        "X['errorBalanceOrig'] = X.NewBalanceOrig + X.amount - X.OldBalanceOrg"
      ],
      "metadata": {
        "execution": {
          "iopub.status.busy": "2022-11-25T15:41:26.255751Z",
          "iopub.execute_input": "2022-11-25T15:41:26.256114Z",
          "iopub.status.idle": "2022-11-25T15:41:26.300329Z",
          "shell.execute_reply.started": "2022-11-25T15:41:26.256081Z",
          "shell.execute_reply": "2022-11-25T15:41:26.299254Z"
        },
        "trusted": true,
        "id": "bOojEgaLv3Ma"
      },
      "execution_count": 23,
      "outputs": []
    },
    {
      "cell_type": "code",
      "source": [
        "limit = len(X)\n",
        "\n",
        "def plotstrip(x , y , hue, figsize = (14,9)):\n",
        "    fig = plt.figure(figsize = figsize)\n",
        "    colours = plt.cm.tab10(np.linspace(0,1,9))\n",
        "    with sns.axes_style('ticks'):\n",
        "        ax = sns.stripplot(x,y,hue = hue,jitter = 0.4, marker = '.',size = 4, palette = colours)\n",
        "\n",
        "        ax.set_xlabel('')\n",
        "        ax.set_xticklabels(['genuine', 'fradulent'], size = 16)\n",
        "\n",
        "        for axis in ['top', 'bottom', 'left', 'right']:\n",
        "            ax.spines[axis].set_linewidth(2)\n",
        "\n",
        "        handles, labels = ax.get_legend_handles_labels()\n",
        "\n",
        "        plt.legend(handles, ['Transfer', 'Cash_out'], bbox_to_anchor=(1,1), \\\n",
        "                  loc = 2, borderaxespad = 0, fontsize = 16);\n",
        "\n",
        "\n",
        "        return ax"
      ],
      "metadata": {
        "execution": {
          "iopub.status.busy": "2022-11-25T15:41:26.30462Z",
          "iopub.execute_input": "2022-11-25T15:41:26.305024Z",
          "iopub.status.idle": "2022-11-25T15:41:26.314584Z",
          "shell.execute_reply.started": "2022-11-25T15:41:26.304988Z",
          "shell.execute_reply": "2022-11-25T15:41:26.313387Z"
        },
        "trusted": true,
        "id": "IPKzFyqev3Mb"
      },
      "execution_count": 29,
      "outputs": []
    },
    {
      "cell_type": "code",
      "source": [
        "ax = plotstrip(Y[:limit], X.step[:limit], X.PaymentType[:limit])\n",
        "ax.set_ylabel('time [hour]', size = 16)\n",
        "ax.set_title('Striped vs. homogenous fingerprints of genuine and fraudulent \\\n",
        "transactions over time', size = 20);"
      ],
      "metadata": {
        "execution": {
          "iopub.status.busy": "2022-11-25T15:41:26.316388Z",
          "iopub.execute_input": "2022-11-25T15:41:26.316799Z",
          "iopub.status.idle": "2022-11-25T15:41:49.857587Z",
          "shell.execute_reply.started": "2022-11-25T15:41:26.316754Z",
          "shell.execute_reply": "2022-11-25T15:41:49.85673Z"
        },
        "trusted": true,
        "id": "G6hYATulv3Mb"
      },
      "execution_count": 33,
      "outputs": []
    },
    {
      "cell_type": "code",
      "source": [
        "limit = len(X)\n",
        "\n",
        "ax = plotstrip(Y[:limit], X.amount[:limit], X.PaymentType[:limit], figsize = (14,9))\n",
        "ax.set_ylabel('amount', size = 16)\n",
        "ax.set_title('Dispersion of genuine and fraudelent transaction with amount', size=25);\n"
      ],
      "metadata": {
        "execution": {
          "iopub.status.busy": "2022-11-25T15:41:49.859125Z",
          "iopub.execute_input": "2022-11-25T15:41:49.859498Z",
          "iopub.status.idle": "2022-11-25T15:42:13.261783Z",
          "shell.execute_reply.started": "2022-11-25T15:41:49.859464Z",
          "shell.execute_reply": "2022-11-25T15:42:13.260561Z"
        },
        "trusted": true,
        "id": "KxKJKpz6v3Mc"
      },
      "execution_count": 34,
      "outputs": []
    },
    {
      "cell_type": "code",
      "source": [
        "limit = len(X)\n",
        "ax = plotstrip(Y[:limit], -X.errorBalanceDest[:limit], X.PaymentType[:limit], figsize = (14,9))\n",
        "\n",
        "ax.set_ylabel('-errorBalanceDest', size = 16)\n",
        "ax.set_title('Oppsite ploarity fingerprint over the error in \\ destination account balances', size = 18)\n",
        "\n"
      ],
      "metadata": {
        "execution": {
          "iopub.status.busy": "2022-11-25T15:42:13.263309Z",
          "iopub.execute_input": "2022-11-25T15:42:13.263656Z",
          "iopub.status.idle": "2022-11-25T15:42:36.129888Z",
          "shell.execute_reply.started": "2022-11-25T15:42:13.263625Z",
          "shell.execute_reply": "2022-11-25T15:42:36.128577Z"
        },
        "trusted": true,
        "id": "aJaXj0b7v3Mc"
      },
      "execution_count": 32,
      "outputs": []
    },
    {
      "cell_type": "code",
      "source": [
        "Xfraud = X.loc[Y==1]\n",
        "XnonFraud = X.loc[Y==0]\n",
        "\n",
        "correlationNonFraud = XnonFraud.loc[:, X.columns !='step'].corr()\n",
        "mask = np.zeros_like(correlationNonFraud)\n",
        "indices = np.triu_indices_from(correlationNonFraud)\n",
        "mask[indices] = True\n",
        "\n",
        "grid_kws = {\"width_ratios\":(.9, .9, .05), \"wspace\" : 0.2}\n",
        "f, (ax1, ax2, cbar_ax) = plt.subplots(1, 3, gridspec_kw=grid_kws,\\\n",
        "                                     figsize = (14, 9))\n",
        "\n",
        "cmap = sns.diverging_palette(220, 8, as_cmap= True)\n",
        "ax1 =sns.heatmap(correlationNonFraud, ax = ax1, vmin = -1, vmax = 1, \\\n",
        "    cmap = cmap, square = False, linewidths = 0.5, mask = mask, cbar = False)\n",
        "ax1.set_xticklabels(ax1.get_xticklabels(), size = 16);\n",
        "ax1.set_yticklabels(ax1.get_xticklabels(), size = 16);\n",
        "ax1.set_title('Genuin \\n transactions', size = 20)\n",
        "\n",
        "correlationFruad = Xfraud.loc[:, X.columns !='step'].corr()\n",
        "ax2 = sns.heatmap(correlationFruad, vmin = -1, vmax = 1, cmap = cmap, \\\n",
        " ax = ax2, square = False, linewidths = 0.5, mask = mask, yticklabels = False, \\\n",
        "    cbar_ax = cbar_ax, cbar_kws={'orientation': 'vertical', \\\n",
        "                                 'ticks': [-1, -0.5, 0, 0.5, 1]})\n",
        "\n",
        "ax2.set_xticklabels(ax2.get_xticklabels(), size = 16);\n",
        "\n",
        "ax2.set_title('Fraudelent \\n transaction', size = 20);\n",
        "\n",
        "cbar_ax.set_yticklabels(cbar_ax.get_yticklabels(), size = 14);\n"
      ],
      "metadata": {
        "execution": {
          "iopub.status.busy": "2022-11-25T15:42:36.131545Z",
          "iopub.execute_input": "2022-11-25T15:42:36.132589Z",
          "iopub.status.idle": "2022-11-25T15:42:37.671254Z",
          "shell.execute_reply.started": "2022-11-25T15:42:36.132542Z",
          "shell.execute_reply": "2022-11-25T15:42:37.669837Z"
        },
        "trusted": true,
        "id": "k0Sbtzl7v3Mc",
        "colab": {
          "base_uri": "https://localhost:8080/",
          "height": 815
        },
        "outputId": "e9f785b2-5e23-4755-9ce1-19395f7d778c"
      },
      "execution_count": 35,
      "outputs": [
        {
          "output_type": "display_data",
          "data": {
            "text/plain": [
              "<Figure size 1400x900 with 3 Axes>"
            ],
            "image/png": "[encoded data removed]"
          },
          "metadata": {}
        }
      ]
    },
    {
      "cell_type": "code",
      "source": [],
      "metadata": {
        "id": "1WdIuwxtv3Md"
      },
      "execution_count": null,
      "outputs": []
    }
  ]
}